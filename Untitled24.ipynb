{
 "cells": [
  {
   "cell_type": "code",
   "execution_count": 2,
   "id": "01aa02ed",
   "metadata": {},
   "outputs": [],
   "source": [
    "import random as r \n",
    "import math as m \n",
    "import numpy as np \n",
    "import matplotlib as mp \n",
    "import matplotlib.pyplot as mpp\n"
   ]
  },
  {
   "cell_type": "code",
   "execution_count": 3,
   "id": "269db5b2",
   "metadata": {},
   "outputs": [],
   "source": [
    "# Create the list for the data h is the heigh of the person w is the average wei!\n",
    "h= [58,60,61,64,66,69,70,71,72,73] \n",
    "w= [102,109,113,125,133,146,149,153, 158,162]\n"
   ]
  },
  {
   "cell_type": "code",
   "execution_count": 14,
   "id": "6f3036c5",
   "metadata": {},
   "outputs": [],
   "source": [
    "def bestFitLine(x,y) : \n",
    "    N= len (x) \n",
    "    sx=0 # the sum of x values \n",
    "    sy=0 # the sum of y values \n",
    "    sxy=0 # The sum of product of corresponding x and y values \n",
    "    sx2=0 # The sum of squers of x values \n",
    "    for i in range(N):\n",
    "        sx=sx+x[i]\n",
    "        sy=sy+y [i]\n",
    "        sxy=sxy+x[i]*y[i] \n",
    "        sx2=sx2+x[i]*x[i]\n",
    "    m= (N*sxy-sx*sy) / (N*sx2-sx*sx) \n",
    "    b=(sy-m* sx)/N \n",
    "    return m,b\n"
   ]
  },
  {
   "cell_type": "code",
   "execution_count": 15,
   "id": "decb7f9b",
   "metadata": {},
   "outputs": [
    {
     "data": {
      "text/plain": [
       "(4.024390243902439, -132.21951219512192)"
      ]
     },
     "execution_count": 15,
     "metadata": {},
     "output_type": "execute_result"
    }
   ],
   "source": [
    "bestFitLine(h,w)"
   ]
  },
  {
   "cell_type": "code",
   "execution_count": 16,
   "id": "25a9be71",
   "metadata": {},
   "outputs": [
    {
     "data": {
      "text/plain": [
       "4.024390243902439"
      ]
     },
     "execution_count": 16,
     "metadata": {},
     "output_type": "execute_result"
    }
   ],
   "source": [
    "bestFitLine(h,w)[0]"
   ]
  },
  {
   "cell_type": "code",
   "execution_count": 17,
   "id": "1cf79e81",
   "metadata": {},
   "outputs": [
    {
     "data": {
      "text/plain": [
       "-132.21951219512192"
      ]
     },
     "execution_count": 17,
     "metadata": {},
     "output_type": "execute_result"
    }
   ],
   "source": [
    "bestFitLine(h,w)[1]"
   ]
  },
  {
   "cell_type": "code",
   "execution_count": 18,
   "id": "d1d99160",
   "metadata": {},
   "outputs": [
    {
     "data": {
      "text/plain": [
       "[101.19512195121953,\n",
       " 109.24390243902442,\n",
       " 113.26829268292687,\n",
       " 125.34146341463418,\n",
       " 133.39024390243907,\n",
       " 145.46341463414637,\n",
       " 149.4878048780488,\n",
       " 153.51219512195127,\n",
       " 157.53658536585368,\n",
       " 161.56097560975616]"
      ]
     },
     "execution_count": 18,
     "metadata": {},
     "output_type": "execute_result"
    }
   ],
   "source": [
    "W1= []\n",
    "for i in range(len(h)):\n",
    "    W1. append (bestFitLine(h,w)[0]*h[i]+bestFitLine(h,w) [1]) \n",
    "W1"
   ]
  },
  {
   "cell_type": "code",
   "execution_count": 19,
   "id": "44bf9ef6",
   "metadata": {},
   "outputs": [
    {
     "data": {
      "text/plain": [
       "[102, 109, 113, 125, 133, 146, 149, 153, 158, 162]"
      ]
     },
     "execution_count": 19,
     "metadata": {},
     "output_type": "execute_result"
    }
   ],
   "source": [
    "w"
   ]
  },
  {
   "cell_type": "code",
   "execution_count": 28,
   "id": "046f5a02",
   "metadata": {},
   "outputs": [],
   "source": [
    "# Create the function to find connelation coefficient.\n",
    "def corrCoefficient(x,y):\n",
    "    N=len (x) \n",
    "    sx=0 # the sum of x values \n",
    "    sy=0 # the sum of y values\n",
    "    sxy=0 # The sum of product of corresponding x and y values \n",
    "    sx2=0 # The sum of squers of x values\n",
    "    sy2=0 # The sum of squers of y values \n",
    "    for i in range(N):\n",
    "        sy=sy+y[i] \n",
    "        sy=sy+y[i]\n",
    "        sxy=sxy+x[i]*y[i] \n",
    "        sx2=sx2+x[i]*x[i]\n",
    "        sy2=sy2+x[i]*y[i] \n",
    "        r=(N*sxy-sx*sy)/np. sqrt((N*sx2-sx*sx) * (N*sy2-sy*sy)) \n",
    "        return r\n"
   ]
  },
  {
   "cell_type": "code",
   "execution_count": 29,
   "id": "323e64dc",
   "metadata": {},
   "outputs": [
    {
     "data": {
      "text/plain": [
       "2.4352068819998713"
      ]
     },
     "execution_count": 29,
     "metadata": {},
     "output_type": "execute_result"
    }
   ],
   "source": [
    "corrCoefficient(h,w)"
   ]
  },
  {
   "cell_type": "code",
   "execution_count": null,
   "id": "89cbec3a",
   "metadata": {},
   "outputs": [],
   "source": []
  }
 ],
 "metadata": {
  "kernelspec": {
   "display_name": "Python 3 (ipykernel)",
   "language": "python",
   "name": "python3"
  },
  "language_info": {
   "codemirror_mode": {
    "name": "ipython",
    "version": 3
   },
   "file_extension": ".py",
   "mimetype": "text/x-python",
   "name": "python",
   "nbconvert_exporter": "python",
   "pygments_lexer": "ipython3",
   "version": "3.11.5"
  }
 },
 "nbformat": 4,
 "nbformat_minor": 5
}
